{
 "cells": [
  {
   "cell_type": "code",
   "execution_count": 5,
   "metadata": {
    "scrolled": false
   },
   "outputs": [
    {
     "name": "stdout",
     "output_type": "stream",
     "text": [
      "('clf:', \"DecisionTreeClassifier(class_weight=None, criterion='gini', max_depth=100,\\n            max_features=100, max_leaf_nodes=None,\\n            min_impurity_decrease=0.0, min_impurity_split=None,\\n            min_samples_leaf=1, min_samples_split=2,\\n            min_weight_fraction_leaf=0.0, presort=False, random_state=None,\\n            splitter='best')\")\n",
      "[ 0.  1.] [ nan   0.] [0]\n",
      "1.0\n"
     ]
    }
   ],
   "source": [
    "from IPython.display import Image\n",
    "import sklearn.tree as tree\n",
    "import pydotplus\n",
    "from sklearn.metrics import precision_recall_curve\n",
    "from sklearn.metrics import classification_report\n",
    "from sklearn.cross_validation import train_test_split\n",
    "from sklearn.decomposition import PCA\n",
    "import graphviz\n",
    "import numpy as np\n",
    "class Tree:\n",
    "    def __init__(self):\n",
    "        data=[]\n",
    "        labels=[]\n",
    "        with open('decision_tree_data_with_label.txt', 'r') as f:\n",
    "            for line in f:\n",
    "                linelist = line.split(' ')\n",
    "                data.append([el for el in linelist[1:-1]])\n",
    "                labels.append(linelist[-1].strip())\n",
    "\n",
    "        pca=PCA(n_components=100)\n",
    "        self.newdata=pca.fit_transform(data)\n",
    "\n",
    "        x = np.array(self.newdata,dtype=int)\n",
    "        labels = np.array(labels,dtype=int)\n",
    "        y = np.zeros(labels.shape,dtype=int)\n",
    "        x_train, x_test, y_train, y_test = train_test_split(x, y, test_size=0.1)\n",
    "\n",
    "        self.clf = tree.DecisionTreeClassifier(criterion='gini',max_features=100,max_depth=100)\n",
    "        self.clf.fit(x_train, y_train)\n",
    "        print(\"clf:\",str(self.clf))\n",
    "\n",
    "\n",
    "\n",
    "        precision, recall, thresholds = precision_recall_curve(y_train, self.clf.predict(x_train))\n",
    "        print precision, recall, thresholds\n",
    "        #anwser = self.clf.predict_proba(x)[:, 1]\n",
    "        print self.clf.score(x_train,y_train)\n",
    "        #tree.export_graphviz(self.clf,out_file=\"tree.dot\")\n",
    "        \n",
    "        \n",
    "dt=Tree()"
   ]
  },
  {
   "cell_type": "code",
   "execution_count": null,
   "metadata": {},
   "outputs": [],
   "source": []
  },
  {
   "cell_type": "code",
   "execution_count": null,
   "metadata": {},
   "outputs": [],
   "source": []
  },
  {
   "cell_type": "code",
   "execution_count": null,
   "metadata": {},
   "outputs": [],
   "source": []
  },
  {
   "cell_type": "code",
   "execution_count": null,
   "metadata": {},
   "outputs": [],
   "source": []
  }
 ],
 "metadata": {
  "kernelspec": {
   "display_name": "Python 2",
   "language": "python",
   "name": "python2"
  },
  "language_info": {
   "codemirror_mode": {
    "name": "ipython",
    "version": 2
   },
   "file_extension": ".py",
   "mimetype": "text/x-python",
   "name": "python",
   "nbconvert_exporter": "python",
   "pygments_lexer": "ipython2",
   "version": "2.7.10"
  }
 },
 "nbformat": 4,
 "nbformat_minor": 2
}
